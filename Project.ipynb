{
 "cells": [
  {
   "cell_type": "code",
   "execution_count": 1,
   "id": "6c4d976d",
   "metadata": {},
   "outputs": [
    {
     "name": "stderr",
     "output_type": "stream",
     "text": [
      "[nltk_data] Downloading package stopwords to\n",
      "[nltk_data]     /Users/firdavs/nltk_data...\n",
      "[nltk_data]   Package stopwords is already up-to-date!\n",
      "[nltk_data] Downloading package wordnet to /Users/firdavs/nltk_data...\n",
      "[nltk_data]   Package wordnet is already up-to-date!\n"
     ]
    },
    {
     "data": {
      "text/plain": [
       "True"
      ]
     },
     "execution_count": 1,
     "metadata": {},
     "output_type": "execute_result"
    }
   ],
   "source": [
    "import pandas as pd\n",
    "from sklearn.feature_extraction.text import CountVectorizer\n",
    "from sklearn.metrics.pairwise import cosine_similarity\n",
    "import nltk\n",
    "from nltk.corpus import stopwords\n",
    "from nltk.stem import WordNetLemmatizer\n",
    "import re\n",
    "import pickle\n",
    "import numpy as np\n",
    "from sklearn.model_selection import train_test_split\n",
    "nltk.download('stopwords')\n",
    "nltk.download('wordnet')"
   ]
  },
  {
   "cell_type": "code",
   "execution_count": 2,
   "id": "a3a7cf1f",
   "metadata": {},
   "outputs": [],
   "source": [
    "df = pd.read_csv('movie_dataset.csv')"
   ]
  },
  {
   "cell_type": "code",
   "execution_count": 3,
   "id": "373660a3",
   "metadata": {},
   "outputs": [
    {
     "data": {
      "text/html": [
       "<div>\n",
       "<style scoped>\n",
       "    .dataframe tbody tr th:only-of-type {\n",
       "        vertical-align: middle;\n",
       "    }\n",
       "\n",
       "    .dataframe tbody tr th {\n",
       "        vertical-align: top;\n",
       "    }\n",
       "\n",
       "    .dataframe thead th {\n",
       "        text-align: right;\n",
       "    }\n",
       "</style>\n",
       "<table border=\"1\" class=\"dataframe\">\n",
       "  <thead>\n",
       "    <tr style=\"text-align: right;\">\n",
       "      <th></th>\n",
       "      <th>id</th>\n",
       "      <th>title</th>\n",
       "      <th>vote_average</th>\n",
       "      <th>vote_count</th>\n",
       "      <th>status</th>\n",
       "      <th>release_date</th>\n",
       "      <th>revenue</th>\n",
       "      <th>runtime</th>\n",
       "      <th>adult</th>\n",
       "      <th>backdrop_path</th>\n",
       "      <th>...</th>\n",
       "      <th>original_title</th>\n",
       "      <th>overview</th>\n",
       "      <th>popularity</th>\n",
       "      <th>poster_path</th>\n",
       "      <th>tagline</th>\n",
       "      <th>genres</th>\n",
       "      <th>production_companies</th>\n",
       "      <th>production_countries</th>\n",
       "      <th>spoken_languages</th>\n",
       "      <th>keywords</th>\n",
       "    </tr>\n",
       "  </thead>\n",
       "  <tbody>\n",
       "    <tr>\n",
       "      <th>0</th>\n",
       "      <td>27205</td>\n",
       "      <td>Inception</td>\n",
       "      <td>8.364</td>\n",
       "      <td>34495</td>\n",
       "      <td>Released</td>\n",
       "      <td>2010-07-15</td>\n",
       "      <td>825532764</td>\n",
       "      <td>148</td>\n",
       "      <td>False</td>\n",
       "      <td>/8ZTVqvKDQ8emSGUEMjsS4yHAwrp.jpg</td>\n",
       "      <td>...</td>\n",
       "      <td>Inception</td>\n",
       "      <td>Cobb, a skilled thief who commits corporate es...</td>\n",
       "      <td>83.952</td>\n",
       "      <td>/oYuLEt3zVCKq57qu2F8dT7NIa6f.jpg</td>\n",
       "      <td>Your mind is the scene of the crime.</td>\n",
       "      <td>Action, Science Fiction, Adventure</td>\n",
       "      <td>Legendary Pictures, Syncopy, Warner Bros. Pict...</td>\n",
       "      <td>United Kingdom, United States of America</td>\n",
       "      <td>English, French, Japanese, Swahili</td>\n",
       "      <td>rescue, mission, dream, airplane, paris, franc...</td>\n",
       "    </tr>\n",
       "    <tr>\n",
       "      <th>1</th>\n",
       "      <td>157336</td>\n",
       "      <td>Interstellar</td>\n",
       "      <td>8.417</td>\n",
       "      <td>32571</td>\n",
       "      <td>Released</td>\n",
       "      <td>2014-11-05</td>\n",
       "      <td>701729206</td>\n",
       "      <td>169</td>\n",
       "      <td>False</td>\n",
       "      <td>/pbrkL804c8yAv3zBZR4QPEafpAR.jpg</td>\n",
       "      <td>...</td>\n",
       "      <td>Interstellar</td>\n",
       "      <td>The adventures of a group of explorers who mak...</td>\n",
       "      <td>140.241</td>\n",
       "      <td>/gEU2QniE6E77NI6lCU6MxlNBvIx.jpg</td>\n",
       "      <td>Mankind was born on Earth. It was never meant ...</td>\n",
       "      <td>Adventure, Drama, Science Fiction</td>\n",
       "      <td>Legendary Pictures, Syncopy, Lynda Obst Produc...</td>\n",
       "      <td>United Kingdom, United States of America</td>\n",
       "      <td>English</td>\n",
       "      <td>rescue, future, spacecraft, race against time,...</td>\n",
       "    </tr>\n",
       "    <tr>\n",
       "      <th>2</th>\n",
       "      <td>155</td>\n",
       "      <td>The Dark Knight</td>\n",
       "      <td>8.512</td>\n",
       "      <td>30619</td>\n",
       "      <td>Released</td>\n",
       "      <td>2008-07-16</td>\n",
       "      <td>1004558444</td>\n",
       "      <td>152</td>\n",
       "      <td>False</td>\n",
       "      <td>/nMKdUUepR0i5zn0y1T4CsSB5chy.jpg</td>\n",
       "      <td>...</td>\n",
       "      <td>The Dark Knight</td>\n",
       "      <td>Batman raises the stakes in his war on crime. ...</td>\n",
       "      <td>130.643</td>\n",
       "      <td>/qJ2tW6WMUDux911r6m7haRef0WH.jpg</td>\n",
       "      <td>Welcome to a world without rules.</td>\n",
       "      <td>Drama, Action, Crime, Thriller</td>\n",
       "      <td>DC Comics, Legendary Pictures, Syncopy, Isobel...</td>\n",
       "      <td>United Kingdom, United States of America</td>\n",
       "      <td>English, Mandarin</td>\n",
       "      <td>joker, sadism, chaos, secret identity, crime f...</td>\n",
       "    </tr>\n",
       "    <tr>\n",
       "      <th>3</th>\n",
       "      <td>19995</td>\n",
       "      <td>Avatar</td>\n",
       "      <td>7.573</td>\n",
       "      <td>29815</td>\n",
       "      <td>Released</td>\n",
       "      <td>2009-12-15</td>\n",
       "      <td>2923706026</td>\n",
       "      <td>162</td>\n",
       "      <td>False</td>\n",
       "      <td>/vL5LR6WdxWPjLPFRLe133jXWsh5.jpg</td>\n",
       "      <td>...</td>\n",
       "      <td>Avatar</td>\n",
       "      <td>In the 22nd century, a paraplegic Marine is di...</td>\n",
       "      <td>79.932</td>\n",
       "      <td>/kyeqWdyUXW608qlYkRqosgbbJyK.jpg</td>\n",
       "      <td>Enter the world of Pandora.</td>\n",
       "      <td>Action, Adventure, Fantasy, Science Fiction</td>\n",
       "      <td>Dune Entertainment, Lightstorm Entertainment, ...</td>\n",
       "      <td>United States of America, United Kingdom</td>\n",
       "      <td>English, Spanish</td>\n",
       "      <td>future, society, culture clash, space travel, ...</td>\n",
       "    </tr>\n",
       "    <tr>\n",
       "      <th>4</th>\n",
       "      <td>24428</td>\n",
       "      <td>The Avengers</td>\n",
       "      <td>7.710</td>\n",
       "      <td>29166</td>\n",
       "      <td>Released</td>\n",
       "      <td>2012-04-25</td>\n",
       "      <td>1518815515</td>\n",
       "      <td>143</td>\n",
       "      <td>False</td>\n",
       "      <td>/9BBTo63ANSmhC4e6r62OJFuK2GL.jpg</td>\n",
       "      <td>...</td>\n",
       "      <td>The Avengers</td>\n",
       "      <td>When an unexpected enemy emerges and threatens...</td>\n",
       "      <td>98.082</td>\n",
       "      <td>/RYMX2wcKCBAr24UyPD7xwmjaTn.jpg</td>\n",
       "      <td>Some assembly required.</td>\n",
       "      <td>Science Fiction, Action, Adventure</td>\n",
       "      <td>Marvel Studios</td>\n",
       "      <td>United States of America</td>\n",
       "      <td>English, Hindi, Russian</td>\n",
       "      <td>new york city, superhero, shield, based on com...</td>\n",
       "    </tr>\n",
       "  </tbody>\n",
       "</table>\n",
       "<p>5 rows × 24 columns</p>\n",
       "</div>"
      ],
      "text/plain": [
       "       id            title  vote_average  vote_count    status release_date  \\\n",
       "0   27205        Inception         8.364       34495  Released   2010-07-15   \n",
       "1  157336     Interstellar         8.417       32571  Released   2014-11-05   \n",
       "2     155  The Dark Knight         8.512       30619  Released   2008-07-16   \n",
       "3   19995           Avatar         7.573       29815  Released   2009-12-15   \n",
       "4   24428     The Avengers         7.710       29166  Released   2012-04-25   \n",
       "\n",
       "      revenue  runtime  adult                     backdrop_path  ...  \\\n",
       "0   825532764      148  False  /8ZTVqvKDQ8emSGUEMjsS4yHAwrp.jpg  ...   \n",
       "1   701729206      169  False  /pbrkL804c8yAv3zBZR4QPEafpAR.jpg  ...   \n",
       "2  1004558444      152  False  /nMKdUUepR0i5zn0y1T4CsSB5chy.jpg  ...   \n",
       "3  2923706026      162  False  /vL5LR6WdxWPjLPFRLe133jXWsh5.jpg  ...   \n",
       "4  1518815515      143  False  /9BBTo63ANSmhC4e6r62OJFuK2GL.jpg  ...   \n",
       "\n",
       "    original_title                                           overview  \\\n",
       "0        Inception  Cobb, a skilled thief who commits corporate es...   \n",
       "1     Interstellar  The adventures of a group of explorers who mak...   \n",
       "2  The Dark Knight  Batman raises the stakes in his war on crime. ...   \n",
       "3           Avatar  In the 22nd century, a paraplegic Marine is di...   \n",
       "4     The Avengers  When an unexpected enemy emerges and threatens...   \n",
       "\n",
       "  popularity                       poster_path  \\\n",
       "0     83.952  /oYuLEt3zVCKq57qu2F8dT7NIa6f.jpg   \n",
       "1    140.241  /gEU2QniE6E77NI6lCU6MxlNBvIx.jpg   \n",
       "2    130.643  /qJ2tW6WMUDux911r6m7haRef0WH.jpg   \n",
       "3     79.932  /kyeqWdyUXW608qlYkRqosgbbJyK.jpg   \n",
       "4     98.082   /RYMX2wcKCBAr24UyPD7xwmjaTn.jpg   \n",
       "\n",
       "                                             tagline  \\\n",
       "0               Your mind is the scene of the crime.   \n",
       "1  Mankind was born on Earth. It was never meant ...   \n",
       "2                  Welcome to a world without rules.   \n",
       "3                        Enter the world of Pandora.   \n",
       "4                            Some assembly required.   \n",
       "\n",
       "                                        genres  \\\n",
       "0           Action, Science Fiction, Adventure   \n",
       "1            Adventure, Drama, Science Fiction   \n",
       "2               Drama, Action, Crime, Thriller   \n",
       "3  Action, Adventure, Fantasy, Science Fiction   \n",
       "4           Science Fiction, Action, Adventure   \n",
       "\n",
       "                                production_companies  \\\n",
       "0  Legendary Pictures, Syncopy, Warner Bros. Pict...   \n",
       "1  Legendary Pictures, Syncopy, Lynda Obst Produc...   \n",
       "2  DC Comics, Legendary Pictures, Syncopy, Isobel...   \n",
       "3  Dune Entertainment, Lightstorm Entertainment, ...   \n",
       "4                                     Marvel Studios   \n",
       "\n",
       "                       production_countries  \\\n",
       "0  United Kingdom, United States of America   \n",
       "1  United Kingdom, United States of America   \n",
       "2  United Kingdom, United States of America   \n",
       "3  United States of America, United Kingdom   \n",
       "4                  United States of America   \n",
       "\n",
       "                     spoken_languages  \\\n",
       "0  English, French, Japanese, Swahili   \n",
       "1                             English   \n",
       "2                   English, Mandarin   \n",
       "3                    English, Spanish   \n",
       "4             English, Hindi, Russian   \n",
       "\n",
       "                                            keywords  \n",
       "0  rescue, mission, dream, airplane, paris, franc...  \n",
       "1  rescue, future, spacecraft, race against time,...  \n",
       "2  joker, sadism, chaos, secret identity, crime f...  \n",
       "3  future, society, culture clash, space travel, ...  \n",
       "4  new york city, superhero, shield, based on com...  \n",
       "\n",
       "[5 rows x 24 columns]"
      ]
     },
     "execution_count": 3,
     "metadata": {},
     "output_type": "execute_result"
    }
   ],
   "source": [
    "df.head()"
   ]
  },
  {
   "cell_type": "code",
   "execution_count": 4,
   "id": "bf24479b",
   "metadata": {},
   "outputs": [
    {
     "name": "stdout",
     "output_type": "stream",
     "text": [
      "<class 'pandas.core.frame.DataFrame'>\n",
      "RangeIndex: 1124109 entries, 0 to 1124108\n",
      "Data columns (total 24 columns):\n",
      " #   Column                Non-Null Count    Dtype  \n",
      "---  ------                --------------    -----  \n",
      " 0   id                    1124109 non-null  int64  \n",
      " 1   title                 1124096 non-null  object \n",
      " 2   vote_average          1124109 non-null  float64\n",
      " 3   vote_count            1124109 non-null  int64  \n",
      " 4   status                1124109 non-null  object \n",
      " 5   release_date          942689 non-null   object \n",
      " 6   revenue               1124109 non-null  int64  \n",
      " 7   runtime               1124109 non-null  int64  \n",
      " 8   adult                 1124109 non-null  bool   \n",
      " 9   backdrop_path         299466 non-null   object \n",
      " 10  budget                1124109 non-null  int64  \n",
      " 11  homepage              119303 non-null   object \n",
      " 12  imdb_id               599422 non-null   object \n",
      " 13  original_language     1124109 non-null  object \n",
      " 14  original_title        1124096 non-null  object \n",
      " 15  overview              897838 non-null   object \n",
      " 16  popularity            1124109 non-null  float64\n",
      " 17  poster_path           772215 non-null   object \n",
      " 18  tagline               157793 non-null   object \n",
      " 19  genres                675642 non-null   object \n",
      " 20  production_companies  508613 non-null   object \n",
      " 21  production_countries  628346 non-null   object \n",
      " 22  spoken_languages      647032 non-null   object \n",
      " 23  keywords              306121 non-null   object \n",
      "dtypes: bool(1), float64(2), int64(5), object(16)\n",
      "memory usage: 198.3+ MB\n"
     ]
    }
   ],
   "source": [
    "df.info()"
   ]
  },
  {
   "cell_type": "code",
   "execution_count": 5,
   "id": "866cd01d",
   "metadata": {},
   "outputs": [
    {
     "data": {
      "text/plain": [
       "27144"
      ]
     },
     "execution_count": 5,
     "metadata": {},
     "output_type": "execute_result"
    }
   ],
   "source": [
    "len(df[df['vote_average'] > 9])"
   ]
  },
  {
   "cell_type": "code",
   "execution_count": 6,
   "id": "187a7fa7",
   "metadata": {},
   "outputs": [],
   "source": [
    "temp_df = df[\n",
    "    (df['runtime'] >= df['runtime'].mean()) & \n",
    "    (df['vote_count'] >= df['vote_count'].mean()) & \n",
    "    (df['vote_average'] >= 5)]\n",
    "\n",
    "filtered_df = temp_df[temp_df['popularity'] >= temp_df['popularity'].mean()].reset_index(drop=True)"
   ]
  },
  {
   "cell_type": "code",
   "execution_count": 7,
   "id": "b44625a9",
   "metadata": {},
   "outputs": [
    {
     "name": "stdout",
     "output_type": "stream",
     "text": [
      "Total NaN values corrected: 758\n"
     ]
    }
   ],
   "source": [
    "index_data = filtered_df[['id', 'title', 'vote_average', 'overview', 'genres', 'keywords']].copy()\n",
    "\n",
    "def replace_nan_with_empty(df):\n",
    "    nan_count = df.isna().sum().sum()\n",
    "    df.fillna(\"empty\", inplace=True)\n",
    "    print(f\"Total NaN values corrected: {nan_count}\")\n",
    "    return df\n",
    "\n",
    "index_data = replace_nan_with_empty(index_data)"
   ]
  },
  {
   "cell_type": "code",
   "execution_count": 8,
   "id": "50bdb520",
   "metadata": {},
   "outputs": [],
   "source": [
    "movie_genres = {\n",
    "    'Action': 28, 'Adventure': 12, 'Animation': 16, 'Comedy': 35, 'Crime': 80, 'Documentary': 99,\n",
    "    'Drama': 18, 'Family': 10751, 'Fantasy': 14, 'History': 36, 'Horror': 27, 'Music': 10402,\n",
    "    'Mystery': 9648, 'Romance': 10749, 'Science Fiction': 878, 'TV Movie': 10770, 'Thriller': 53,\n",
    "    'War': 10752, 'Western': 37\n",
    "}\n",
    "\n",
    "def convert_genres(genre_str):\n",
    "    if pd.isna(genre_str):\n",
    "        return []\n",
    "    return [movie_genres[genre.strip()] for genre in genre_str.split(', ') if genre.strip() in movie_genres]\n",
    "\n",
    "filtered_df['genres'] = filtered_df['genres'].apply(convert_genres)"
   ]
  },
  {
   "cell_type": "code",
   "execution_count": 9,
   "id": "2c0677b4",
   "metadata": {},
   "outputs": [],
   "source": [
    "filtered_df['keywords'] = filtered_df['keywords'].apply(lambda x: x.split(', ') if isinstance(x, str) else [])"
   ]
  },
  {
   "cell_type": "code",
   "execution_count": 10,
   "id": "45ec8d1c",
   "metadata": {},
   "outputs": [
    {
     "name": "stdout",
     "output_type": "stream",
     "text": [
      "0    genre 28 878 12 title inception overview cobb ...\n",
      "1    genre 12 18 878 title interstellar overview ad...\n",
      "2    genre 18 28 80 53 title dark knight overview b...\n",
      "3    genre 28 12 14 878 title avatar overview 22nd ...\n",
      "4    genre 878 28 12 title avenger overview unexpec...\n",
      "Name: tags, dtype: object\n"
     ]
    }
   ],
   "source": [
    "stop_words = set(stopwords.words('english'))\n",
    "lemmatizer = WordNetLemmatizer()\n",
    "\n",
    "def create_and_preprocess_tags(row):\n",
    "    # Создание строки с объединёнными значениями\n",
    "    genre_str = ' '.join(map(str, row['genres']))\n",
    "    keywords_str = ' '.join(row['keywords'])\n",
    "    title_str = row['title']\n",
    "    overview_str = row['overview']\n",
    "    combined_text = f\"Genre {genre_str} Title {title_str} Overview {overview_str} Keywords {keywords_str}\"\n",
    "\n",
    "    combined_text = re.sub(r'[^\\w\\s]', '', combined_text.lower())\n",
    "    \n",
    "    # Удаление стоп-слов и лемматизация\n",
    "    words = [lemmatizer.lemmatize(word) for word in combined_text.split() if word not in stop_words]\n",
    "\n",
    "    return ' '.join(words)\n",
    "\n",
    "filtered_df['tags'] = filtered_df.apply(create_and_preprocess_tags, axis=1)\n",
    "\n",
    "data_dict = index_data.set_index('id').to_dict(orient='index')\n",
    "print(filtered_df['tags'].head(5))"
   ]
  },
  {
   "cell_type": "code",
   "execution_count": 11,
   "id": "c0d67909",
   "metadata": {},
   "outputs": [],
   "source": [
    "indices = pd.Series(filtered_df.index, index=filtered_df['id'])"
   ]
  },
  {
   "cell_type": "markdown",
   "id": "b6fe142d",
   "metadata": {},
   "source": [
    "# Count Vectorizer"
   ]
  },
  {
   "cell_type": "code",
   "execution_count": 12,
   "id": "524cefbb",
   "metadata": {},
   "outputs": [],
   "source": [
    "cv = CountVectorizer().fit_transform(filtered_df['tags'])"
   ]
  },
  {
   "cell_type": "code",
   "execution_count": 13,
   "id": "20d207c2",
   "metadata": {},
   "outputs": [],
   "source": [
    "def get_recommendations(movie_title):\n",
    "    idx = filtered_df[filtered_df['title'].str.contains(movie_title, case=False)].index\n",
    "    if len(idx) == 0:\n",
    "        print(\"Фильм не найден. Попробуйте другое название.\")\n",
    "        return\n",
    "\n",
    "    idx = idx[0]  # Получаем индекс первого совпадения\n",
    "    similarity_scores = cosine_similarity(cv[idx], cv).flatten()\n",
    "    similar_movie_indices = similarity_scores.argsort()[-10:-1][::-1]\n",
    "\n",
    "    return filtered_df['title'].iloc[similar_movie_indices].tolist()"
   ]
  },
  {
   "cell_type": "code",
   "execution_count": 14,
   "id": "1010e856",
   "metadata": {},
   "outputs": [
    {
     "data": {
      "text/plain": [
       "['Toy Story 2',\n",
       " 'Toy Story 4',\n",
       " 'Toy Story 3',\n",
       " 'Small Soldiers',\n",
       " 'Toys',\n",
       " 'Welcome to Marwen',\n",
       " 'Buzz Lightyear of Star Command: The Adventure Begins',\n",
       " 'The Indian in the Cupboard',\n",
       " 'The Beanie Bubble']"
      ]
     },
     "execution_count": 14,
     "metadata": {},
     "output_type": "execute_result"
    }
   ],
   "source": [
    "get_recommendations(\"Toy Story\")"
   ]
  },
  {
   "cell_type": "markdown",
   "id": "c94021e8",
   "metadata": {},
   "source": [
    "# Calculate Metrics"
   ]
  },
  {
   "cell_type": "code",
   "execution_count": 15,
   "id": "31a5f46f",
   "metadata": {},
   "outputs": [],
   "source": [
    "def calculate_precision_at_k(actual, predicted, k):\n",
    "    \"\"\"\n",
    "    Вычисляет Precision@K\n",
    "    \"\"\"\n",
    "    if len(predicted) > k:\n",
    "        predicted = predicted[:k]\n",
    "    \n",
    "    score = len(set(actual) & set(predicted)) / k if k > 0 else 0\n",
    "    return score\n",
    "\n",
    "def calculate_mrr(actual, predicted):\n",
    "    \"\"\"\n",
    "    Вычисляет Mean Reciprocal Rank (MRR)\n",
    "    \"\"\"\n",
    "    for rank, item in enumerate(predicted, 1):\n",
    "        if item in actual:\n",
    "            return 1.0 / rank\n",
    "    return 0.0\n",
    "\n",
    "def calculate_map_at_k(actual, predicted, k):\n",
    "    \"\"\"\n",
    "    Вычисляет Mean Average Precision at K (MAP@K)\n",
    "    \"\"\"\n",
    "    if len(predicted) > k:\n",
    "        predicted = predicted[:k]\n",
    "    \n",
    "    score = 0.0\n",
    "    num_hits = 0.0\n",
    "    \n",
    "    for i, p in enumerate(predicted):\n",
    "        if p in actual and p not in predicted[:i]:\n",
    "            num_hits += 1\n",
    "            score += num_hits / (i + 1)\n",
    "    \n",
    "    if not actual:\n",
    "        return 0.0\n",
    "    \n",
    "    return score / min(len(actual), k)"
   ]
  },
  {
   "cell_type": "code",
   "execution_count": 16,
   "id": "015b361e",
   "metadata": {},
   "outputs": [],
   "source": [
    "def evaluate_metrics(filtered_df, k=5, test_size=0.2, random_state=42):\n",
    "    \"\"\"\n",
    "    Вычисляет все метрики ранжирования\n",
    "    \"\"\"\n",
    "    train_df, test_df = train_test_split(filtered_df, test_size=test_size, random_state=random_state)\n",
    "    \n",
    "    def get_relevant_movies(movie_title):\n",
    "        \"\"\"Получает релевантные фильмы на основе жанров\"\"\"\n",
    "        movie_genres = set(filtered_df[filtered_df['title'] == movie_title]['genres'].iloc[0])\n",
    "        relevant = []\n",
    "        \n",
    "        for idx, row in filtered_df.iterrows():\n",
    "            if row['title'] != movie_title:\n",
    "                if len(set(row['genres']) & movie_genres) >= len(movie_genres) * 0.5:\n",
    "                    relevant.append(row['title'])\n",
    "        \n",
    "        return relevant\n",
    "\n",
    "    metrics = {\n",
    "        'precision@k': [],\n",
    "        'mrr': [],\n",
    "        'map@k': []\n",
    "    }\n",
    "    \n",
    "    for title in test_df['title'].sample(n=min(100, len(test_df)), random_state=random_state):\n",
    "        try:\n",
    "            recommendations = get_recommendations(title)\n",
    "            relevant_movies = get_relevant_movies(title)\n",
    "            \n",
    "            metrics['precision@k'].append(calculate_precision_at_k(relevant_movies, recommendations, k))\n",
    "            metrics['mrr'].append(calculate_mrr(relevant_movies, recommendations))\n",
    "            metrics['map@k'].append(calculate_map_at_k(relevant_movies, recommendations, k))\n",
    "            \n",
    "        except Exception as e:\n",
    "            print(f\"Error evaluating {title}: {str(e)}\")\n",
    "    \n",
    "    average_metrics = {\n",
    "        f'Precision@{k}': np.mean(metrics['precision@k']),\n",
    "        'MRR': np.mean(metrics['mrr']),\n",
    "        f'MAP@{k}': np.mean(metrics['map@k'])\n",
    "    }\n",
    "    \n",
    "    return average_metrics"
   ]
  },
  {
   "cell_type": "code",
   "execution_count": 17,
   "id": "1d63f35f",
   "metadata": {},
   "outputs": [],
   "source": [
    "metrics = evaluate_metrics(filtered_df, k=5)"
   ]
  },
  {
   "cell_type": "code",
   "execution_count": 18,
   "id": "cfa80efe",
   "metadata": {},
   "outputs": [
    {
     "data": {
      "text/html": [
       "<div>\n",
       "<style scoped>\n",
       "    .dataframe tbody tr th:only-of-type {\n",
       "        vertical-align: middle;\n",
       "    }\n",
       "\n",
       "    .dataframe tbody tr th {\n",
       "        vertical-align: top;\n",
       "    }\n",
       "\n",
       "    .dataframe thead th {\n",
       "        text-align: right;\n",
       "    }\n",
       "</style>\n",
       "<table border=\"1\" class=\"dataframe\">\n",
       "  <thead>\n",
       "    <tr style=\"text-align: right;\">\n",
       "      <th></th>\n",
       "      <th>Metric</th>\n",
       "      <th>Value</th>\n",
       "    </tr>\n",
       "  </thead>\n",
       "  <tbody>\n",
       "    <tr>\n",
       "      <th>0</th>\n",
       "      <td>Precision@5</td>\n",
       "      <td>0.716000</td>\n",
       "    </tr>\n",
       "    <tr>\n",
       "      <th>1</th>\n",
       "      <td>MRR</td>\n",
       "      <td>0.840333</td>\n",
       "    </tr>\n",
       "    <tr>\n",
       "      <th>2</th>\n",
       "      <td>MAP@5</td>\n",
       "      <td>0.650867</td>\n",
       "    </tr>\n",
       "  </tbody>\n",
       "</table>\n",
       "</div>"
      ],
      "text/plain": [
       "        Metric     Value\n",
       "0  Precision@5  0.716000\n",
       "1          MRR  0.840333\n",
       "2        MAP@5  0.650867"
      ]
     },
     "execution_count": 18,
     "metadata": {},
     "output_type": "execute_result"
    }
   ],
   "source": [
    "df_metrics = pd.DataFrame(list(metrics.items()), columns=['Metric', 'Value'])\n",
    "df_metrics.head()"
   ]
  },
  {
   "cell_type": "markdown",
   "id": "52d95059",
   "metadata": {},
   "source": [
    "# Save variables"
   ]
  },
  {
   "cell_type": "code",
   "execution_count": 19,
   "id": "db003274",
   "metadata": {},
   "outputs": [],
   "source": [
    "#with open('cv.pkl', 'wb') as f:\n",
    "#    pickle.dump(cv, f)"
   ]
  },
  {
   "cell_type": "code",
   "execution_count": 20,
   "id": "8cb6cbcd",
   "metadata": {},
   "outputs": [],
   "source": [
    "#with open('indices.pkl', 'wb') as f:\n",
    "#    pickle.dump(indices, f)"
   ]
  },
  {
   "cell_type": "code",
   "execution_count": 21,
   "id": "1e615e82",
   "metadata": {},
   "outputs": [],
   "source": [
    "#with open('movies_list.pkl', 'wb') as f:\n",
    "#    pickle.dump(filtered_df, f)"
   ]
  }
 ],
 "metadata": {
  "kernelspec": {
   "display_name": "Python 3 (ipykernel)",
   "language": "python",
   "name": "python3"
  },
  "language_info": {
   "codemirror_mode": {
    "name": "ipython",
    "version": 3
   },
   "file_extension": ".py",
   "mimetype": "text/x-python",
   "name": "python",
   "nbconvert_exporter": "python",
   "pygments_lexer": "ipython3",
   "version": "3.11.7"
  }
 },
 "nbformat": 4,
 "nbformat_minor": 5
}
